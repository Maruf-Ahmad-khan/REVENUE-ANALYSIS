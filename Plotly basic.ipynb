{
 "cells": [
  {
   "cell_type": "code",
   "execution_count": 1,
   "metadata": {},
   "outputs": [],
   "source": [
    "import pandas as pd\n",
    "import dash\n",
    "import plotly\n"
   ]
  },
  {
   "cell_type": "code",
   "execution_count": 2,
   "metadata": {},
   "outputs": [
    {
     "data": {
      "text/html": [
       "<div>\n",
       "<style scoped>\n",
       "    .dataframe tbody tr th:only-of-type {\n",
       "        vertical-align: middle;\n",
       "    }\n",
       "\n",
       "    .dataframe tbody tr th {\n",
       "        vertical-align: top;\n",
       "    }\n",
       "\n",
       "    .dataframe thead th {\n",
       "        text-align: right;\n",
       "    }\n",
       "</style>\n",
       "<table border=\"1\" class=\"dataframe\">\n",
       "  <thead>\n",
       "    <tr style=\"text-align: right;\">\n",
       "      <th></th>\n",
       "      <th>Action Date</th>\n",
       "      <th>ID</th>\n",
       "      <th>Campaign_Name</th>\n",
       "      <th>Currency</th>\n",
       "      <th>Status</th>\n",
       "      <th>Amount</th>\n",
       "      <th>Payout</th>\n",
       "      <th>Inventory</th>\n",
       "      <th>Sub_Id</th>\n",
       "      <th>Partner</th>\n",
       "      <th>Email_Id</th>\n",
       "    </tr>\n",
       "  </thead>\n",
       "  <tbody>\n",
       "    <tr>\n",
       "      <th>0</th>\n",
       "      <td>8/16/2024 20:43</td>\n",
       "      <td>12108.6072.1954417</td>\n",
       "      <td>DHgate</td>\n",
       "      <td>USD</td>\n",
       "      <td>Pending</td>\n",
       "      <td>149.90</td>\n",
       "      <td>22.49</td>\n",
       "      <td>Xocoupon</td>\n",
       "      <td>gmg</td>\n",
       "      <td>Impact</td>\n",
       "      <td>contact@xocoupon.com</td>\n",
       "    </tr>\n",
       "    <tr>\n",
       "      <th>1</th>\n",
       "      <td>8/16/2024 20:18</td>\n",
       "      <td>9383.6072.1616753</td>\n",
       "      <td>Walmart Affiliate Program</td>\n",
       "      <td>USD</td>\n",
       "      <td>Pending</td>\n",
       "      <td>18.27</td>\n",
       "      <td>0.73</td>\n",
       "      <td>Xocoupon</td>\n",
       "      <td>NaN</td>\n",
       "      <td>Impact</td>\n",
       "      <td>contact@xocoupon.com</td>\n",
       "    </tr>\n",
       "    <tr>\n",
       "      <th>2</th>\n",
       "      <td>8/16/2024 19:49</td>\n",
       "      <td>9383.6072.1657595</td>\n",
       "      <td>Walmart Affiliate Program</td>\n",
       "      <td>USD</td>\n",
       "      <td>Pending</td>\n",
       "      <td>24.96</td>\n",
       "      <td>0.00</td>\n",
       "      <td>Xocoupon</td>\n",
       "      <td>NaN</td>\n",
       "      <td>Impact</td>\n",
       "      <td>contact@xocoupon.com</td>\n",
       "    </tr>\n",
       "    <tr>\n",
       "      <th>3</th>\n",
       "      <td>8/16/2024 18:02</td>\n",
       "      <td>9383.6072.1688675</td>\n",
       "      <td>Walmart Affiliate Program</td>\n",
       "      <td>USD</td>\n",
       "      <td>Pending</td>\n",
       "      <td>6.26</td>\n",
       "      <td>0.00</td>\n",
       "      <td>Xocoupon</td>\n",
       "      <td>NaN</td>\n",
       "      <td>Impact</td>\n",
       "      <td>contact@xocoupon.com</td>\n",
       "    </tr>\n",
       "    <tr>\n",
       "      <th>4</th>\n",
       "      <td>8/16/2024 15:03</td>\n",
       "      <td>9383.6072.1725084</td>\n",
       "      <td>Walmart Affiliate Program</td>\n",
       "      <td>USD</td>\n",
       "      <td>Pending</td>\n",
       "      <td>202.12</td>\n",
       "      <td>0.00</td>\n",
       "      <td>Xocoupon</td>\n",
       "      <td>NaN</td>\n",
       "      <td>Impact</td>\n",
       "      <td>contact@xocoupon.com</td>\n",
       "    </tr>\n",
       "  </tbody>\n",
       "</table>\n",
       "</div>"
      ],
      "text/plain": [
       "       Action Date                  ID              Campaign_Name Currency  \\\n",
       "0  8/16/2024 20:43  12108.6072.1954417                     DHgate      USD   \n",
       "1  8/16/2024 20:18   9383.6072.1616753  Walmart Affiliate Program      USD   \n",
       "2  8/16/2024 19:49   9383.6072.1657595  Walmart Affiliate Program      USD   \n",
       "3  8/16/2024 18:02   9383.6072.1688675  Walmart Affiliate Program      USD   \n",
       "4  8/16/2024 15:03   9383.6072.1725084  Walmart Affiliate Program      USD   \n",
       "\n",
       "    Status  Amount  Payout Inventory Sub_Id Partner              Email_Id  \n",
       "0  Pending  149.90   22.49  Xocoupon    gmg  Impact  contact@xocoupon.com  \n",
       "1  Pending   18.27    0.73  Xocoupon    NaN  Impact  contact@xocoupon.com  \n",
       "2  Pending   24.96    0.00  Xocoupon    NaN  Impact  contact@xocoupon.com  \n",
       "3  Pending    6.26    0.00  Xocoupon    NaN  Impact  contact@xocoupon.com  \n",
       "4  Pending  202.12    0.00  Xocoupon    NaN  Impact  contact@xocoupon.com  "
      ]
     },
     "execution_count": 2,
     "metadata": {},
     "output_type": "execute_result"
    }
   ],
   "source": [
    "df = pd.read_csv(r\"C:\\Users\\mk744\\Downloads\\August Data\\9 Aug to 15 Aug\\Impact Technosense 40.csv\")\n",
    "df.head()"
   ]
  },
  {
   "cell_type": "code",
   "execution_count": 3,
   "metadata": {},
   "outputs": [],
   "source": [
    "df['Date'] = pd.to_datetime(df['Action Date'], errors = 'coerce').dt.date\n",
    "df['Time'] = pd.to_datetime(df['Action Date'], errors = 'coerce').dt.time\n",
    "df_cols = df[['Inventory','Campaign_Name', 'ID', 'Status', 'Date', 'Time', 'Amount', 'Payout', 'Currency', 'Sub_Id', 'Partner', 'Email_Id']]"
   ]
  },
  {
   "cell_type": "code",
   "execution_count": 4,
   "metadata": {},
   "outputs": [
    {
     "data": {
      "text/html": [
       "<div>\n",
       "<style scoped>\n",
       "    .dataframe tbody tr th:only-of-type {\n",
       "        vertical-align: middle;\n",
       "    }\n",
       "\n",
       "    .dataframe tbody tr th {\n",
       "        vertical-align: top;\n",
       "    }\n",
       "\n",
       "    .dataframe thead th {\n",
       "        text-align: right;\n",
       "    }\n",
       "</style>\n",
       "<table border=\"1\" class=\"dataframe\">\n",
       "  <thead>\n",
       "    <tr style=\"text-align: right;\">\n",
       "      <th></th>\n",
       "      <th>Inventory</th>\n",
       "      <th>Campaign_Name</th>\n",
       "      <th>ID</th>\n",
       "      <th>Status</th>\n",
       "      <th>Date</th>\n",
       "      <th>Time</th>\n",
       "      <th>Amount</th>\n",
       "      <th>Payout</th>\n",
       "      <th>Currency</th>\n",
       "      <th>Sub_Id</th>\n",
       "      <th>Partner</th>\n",
       "      <th>Email_Id</th>\n",
       "    </tr>\n",
       "  </thead>\n",
       "  <tbody>\n",
       "    <tr>\n",
       "      <th>0</th>\n",
       "      <td>Xocoupon</td>\n",
       "      <td>DHgate</td>\n",
       "      <td>12108.6072.1954417</td>\n",
       "      <td>Pending</td>\n",
       "      <td>2024-08-16</td>\n",
       "      <td>20:43:00</td>\n",
       "      <td>149.90</td>\n",
       "      <td>22.49</td>\n",
       "      <td>USD</td>\n",
       "      <td>gmg</td>\n",
       "      <td>Impact</td>\n",
       "      <td>contact@xocoupon.com</td>\n",
       "    </tr>\n",
       "    <tr>\n",
       "      <th>1</th>\n",
       "      <td>Xocoupon</td>\n",
       "      <td>Walmart Affiliate Program</td>\n",
       "      <td>9383.6072.1616753</td>\n",
       "      <td>Pending</td>\n",
       "      <td>2024-08-16</td>\n",
       "      <td>20:18:00</td>\n",
       "      <td>18.27</td>\n",
       "      <td>0.73</td>\n",
       "      <td>USD</td>\n",
       "      <td>NaN</td>\n",
       "      <td>Impact</td>\n",
       "      <td>contact@xocoupon.com</td>\n",
       "    </tr>\n",
       "  </tbody>\n",
       "</table>\n",
       "</div>"
      ],
      "text/plain": [
       "  Inventory              Campaign_Name                  ID   Status  \\\n",
       "0  Xocoupon                     DHgate  12108.6072.1954417  Pending   \n",
       "1  Xocoupon  Walmart Affiliate Program   9383.6072.1616753  Pending   \n",
       "\n",
       "         Date      Time  Amount  Payout Currency Sub_Id Partner  \\\n",
       "0  2024-08-16  20:43:00  149.90   22.49      USD    gmg  Impact   \n",
       "1  2024-08-16  20:18:00   18.27    0.73      USD    NaN  Impact   \n",
       "\n",
       "               Email_Id  \n",
       "0  contact@xocoupon.com  \n",
       "1  contact@xocoupon.com  "
      ]
     },
     "execution_count": 4,
     "metadata": {},
     "output_type": "execute_result"
    }
   ],
   "source": [
    "df_cols.head(2)"
   ]
  },
  {
   "cell_type": "code",
   "execution_count": 5,
   "metadata": {},
   "outputs": [
    {
     "name": "stdout",
     "output_type": "stream",
     "text": [
      "Dash is running on http://127.0.0.1:8050/\n",
      "\n",
      " * Serving Flask app \"__main__\" (lazy loading)\n",
      " * Environment: production\n",
      "\u001b[31m   WARNING: This is a development server. Do not use it in a production deployment.\u001b[0m\n",
      "\u001b[2m   Use a production WSGI server instead.\u001b[0m\n",
      " * Debug mode: off\n"
     ]
    },
    {
     "name": "stderr",
     "output_type": "stream",
     "text": [
      " * Running on http://127.0.0.1:8050/ (Press CTRL+C to quit)\n"
     ]
    }
   ],
   "source": [
    "from dash import Dash, html\n",
    "app = Dash(__name__)\n",
    "app.layout = html.Div(\"Hello\")\n",
    "if __name__ == \"__main__\":\n",
    "     app.run_server()"
   ]
  },
  {
   "cell_type": "code",
   "execution_count": null,
   "metadata": {},
   "outputs": [
    {
     "data": {
      "text/html": [
       "\n",
       "        <iframe\n",
       "            width=\"100%\"\n",
       "            height=\"650\"\n",
       "            src=\"http://127.0.0.1:8050/\"\n",
       "            frameborder=\"0\"\n",
       "            allowfullscreen\n",
       "            \n",
       "        ></iframe>\n",
       "        "
      ],
      "text/plain": [
       "<IPython.lib.display.IFrame at 0x1fdbdfa7e80>"
      ]
     },
     "metadata": {},
     "output_type": "display_data"
    }
   ],
   "source": [
    "from dash import html\n",
    "from jupyter_dash import JupyterDash\n",
    "app = JupyterDash(__name__)\n",
    "app.layout = html.Div(\"Hello, My name is maruf and i am learning plotly and dash to make beautiful dashboard.\")\n",
    "if __name__ == \"__main__\":\n",
    "     app.run_server(mode = \"inline\")\n",
    "     "
   ]
  },
  {
   "cell_type": "code",
   "execution_count": null,
   "metadata": {},
   "outputs": [
    {
     "name": "stdout",
     "output_type": "stream",
     "text": [
      "Requirement already satisfied: jupyter_dash in c:\\users\\mk744\\anaconda3\\lib\\site-packages (0.4.2)\n",
      "Requirement already satisfied: nest-asyncio in c:\\users\\mk744\\anaconda3\\lib\\site-packages (from jupyter_dash) (1.5.5)\n",
      "Requirement already satisfied: requests in c:\\users\\mk744\\anaconda3\\lib\\site-packages (from jupyter_dash) (2.27.1)\n",
      "Requirement already satisfied: ipykernel in c:\\users\\mk744\\anaconda3\\lib\\site-packages (from jupyter_dash) (6.9.1)\n",
      "Requirement already satisfied: dash in c:\\users\\mk744\\anaconda3\\lib\\site-packages (from jupyter_dash) (2.8.1)\n",
      "Requirement already satisfied: ipython in c:\\users\\mk744\\anaconda3\\lib\\site-packages (from jupyter_dash) (8.2.0)\n",
      "Requirement already satisfied: ansi2html in c:\\users\\mk744\\anaconda3\\lib\\site-packages (from jupyter_dash) (1.9.2)\n",
      "Requirement already satisfied: flask in c:\\users\\mk744\\anaconda3\\lib\\site-packages (from jupyter_dash) (1.1.2)\n",
      "Requirement already satisfied: retrying in c:\\users\\mk744\\anaconda3\\lib\\site-packages (from jupyter_dash) (1.3.4)\n",
      "Requirement already satisfied: dash-table==5.0.0 in c:\\users\\mk744\\anaconda3\\lib\\site-packages (from dash->jupyter_dash) (5.0.0)\n",
      "Requirement already satisfied: plotly>=5.0.0 in c:\\users\\mk744\\anaconda3\\lib\\site-packages (from dash->jupyter_dash) (5.6.0)\n",
      "Requirement already satisfied: dash-core-components==2.0.0 in c:\\users\\mk744\\anaconda3\\lib\\site-packages (from dash->jupyter_dash) (2.0.0)\n",
      "Requirement already satisfied: dash-html-components==2.0.0 in c:\\users\\mk744\\anaconda3\\lib\\site-packages (from dash->jupyter_dash) (2.0.0)\n",
      "Requirement already satisfied: Werkzeug>=0.15 in c:\\users\\mk744\\anaconda3\\lib\\site-packages (from flask->jupyter_dash) (2.0.3)\n",
      "Requirement already satisfied: click>=5.1 in c:\\users\\mk744\\anaconda3\\lib\\site-packages (from flask->jupyter_dash) (8.0.4)\n",
      "Requirement already satisfied: itsdangerous>=0.24 in c:\\users\\mk744\\anaconda3\\lib\\site-packages (from flask->jupyter_dash) (2.0.1)\n",
      "Requirement already satisfied: Jinja2>=2.10.1 in c:\\users\\mk744\\anaconda3\\lib\\site-packages (from flask->jupyter_dash) (2.11.3)\n",
      "Requirement already satisfied: colorama in c:\\users\\mk744\\anaconda3\\lib\\site-packages (from click>=5.1->flask->jupyter_dash) (0.4.6)\n",
      "Requirement already satisfied: MarkupSafe>=0.23 in c:\\users\\mk744\\anaconda3\\lib\\site-packages (from Jinja2>=2.10.1->flask->jupyter_dash) (2.0.1)\n",
      "Requirement already satisfied: six in c:\\users\\mk744\\anaconda3\\lib\\site-packages (from plotly>=5.0.0->dash->jupyter_dash) (1.16.0)\n",
      "Requirement already satisfied: tenacity>=6.2.0 in c:\\users\\mk744\\anaconda3\\lib\\site-packages (from plotly>=5.0.0->dash->jupyter_dash) (8.0.1)\n",
      "Requirement already satisfied: traitlets<6.0,>=5.1.0 in c:\\users\\mk744\\anaconda3\\lib\\site-packages (from ipykernel->jupyter_dash) (5.1.1)\n",
      "Requirement already satisfied: tornado<7.0,>=4.2 in c:\\users\\mk744\\anaconda3\\lib\\site-packages (from ipykernel->jupyter_dash) (6.1)\n",
      "Requirement already satisfied: debugpy<2.0,>=1.0.0 in c:\\users\\mk744\\anaconda3\\lib\\site-packages (from ipykernel->jupyter_dash) (1.5.1)\n",
      "Requirement already satisfied: jupyter-client<8.0 in c:\\users\\mk744\\anaconda3\\lib\\site-packages (from ipykernel->jupyter_dash) (6.1.12)\n",
      "Requirement already satisfied: matplotlib-inline<0.2.0,>=0.1.0 in c:\\users\\mk744\\anaconda3\\lib\\site-packages (from ipykernel->jupyter_dash) (0.1.2)\n",
      "Requirement already satisfied: pickleshare in c:\\users\\mk744\\anaconda3\\lib\\site-packages (from ipython->jupyter_dash) (0.7.5)\n",
      "Requirement already satisfied: jedi>=0.16 in c:\\users\\mk744\\anaconda3\\lib\\site-packages (from ipython->jupyter_dash) (0.18.1)\n",
      "Requirement already satisfied: prompt-toolkit!=3.0.0,!=3.0.1,<3.1.0,>=2.0.0 in c:\\users\\mk744\\anaconda3\\lib\\site-packages (from ipython->jupyter_dash) (3.0.20)\n",
      "Requirement already satisfied: setuptools>=18.5 in c:\\users\\mk744\\anaconda3\\lib\\site-packages (from ipython->jupyter_dash) (61.2.0)\n",
      "Requirement already satisfied: pygments>=2.4.0 in c:\\users\\mk744\\anaconda3\\lib\\site-packages (from ipython->jupyter_dash) (2.11.2)\n",
      "Requirement already satisfied: stack-data in c:\\users\\mk744\\anaconda3\\lib\\site-packages (from ipython->jupyter_dash) (0.2.0)\n",
      "Requirement already satisfied: decorator in c:\\users\\mk744\\anaconda3\\lib\\site-packages (from ipython->jupyter_dash) (5.1.1)\n",
      "Requirement already satisfied: backcall in c:\\users\\mk744\\anaconda3\\lib\\site-packages (from ipython->jupyter_dash) (0.2.0)\n",
      "Requirement already satisfied: parso<0.9.0,>=0.8.0 in c:\\users\\mk744\\anaconda3\\lib\\site-packages (from jedi>=0.16->ipython->jupyter_dash) (0.8.3)\n",
      "Requirement already satisfied: jupyter-core>=4.6.0 in c:\\users\\mk744\\anaconda3\\lib\\site-packages (from jupyter-client<8.0->ipykernel->jupyter_dash) (4.9.2)\n",
      "Requirement already satisfied: python-dateutil>=2.1 in c:\\users\\mk744\\anaconda3\\lib\\site-packages (from jupyter-client<8.0->ipykernel->jupyter_dash) (2.8.2)\n",
      "Requirement already satisfied: pyzmq>=13 in c:\\users\\mk744\\anaconda3\\lib\\site-packages (from jupyter-client<8.0->ipykernel->jupyter_dash) (22.3.0)\n",
      "Requirement already satisfied: pywin32>=1.0 in c:\\users\\mk744\\anaconda3\\lib\\site-packages (from jupyter-core>=4.6.0->jupyter-client<8.0->ipykernel->jupyter_dash) (302)\n",
      "Requirement already satisfied: wcwidth in c:\\users\\mk744\\anaconda3\\lib\\site-packages (from prompt-toolkit!=3.0.0,!=3.0.1,<3.1.0,>=2.0.0->ipython->jupyter_dash) (0.2.5)\n",
      "Requirement already satisfied: certifi>=2017.4.17 in c:\\users\\mk744\\anaconda3\\lib\\site-packages (from requests->jupyter_dash) (2022.9.24)\n",
      "Requirement already satisfied: charset-normalizer~=2.0.0 in c:\\users\\mk744\\anaconda3\\lib\\site-packages (from requests->jupyter_dash) (2.0.4)\n",
      "Requirement already satisfied: urllib3<1.27,>=1.21.1 in c:\\users\\mk744\\anaconda3\\lib\\site-packages (from requests->jupyter_dash) (1.26.9)\n",
      "Requirement already satisfied: idna<4,>=2.5 in c:\\users\\mk744\\anaconda3\\lib\\site-packages (from requests->jupyter_dash) (3.3)\n",
      "Requirement already satisfied: asttokens in c:\\users\\mk744\\anaconda3\\lib\\site-packages (from stack-data->ipython->jupyter_dash) (2.0.5)\n",
      "Requirement already satisfied: executing in c:\\users\\mk744\\anaconda3\\lib\\site-packages (from stack-data->ipython->jupyter_dash) (0.8.3)\n",
      "Requirement already satisfied: pure-eval in c:\\users\\mk744\\anaconda3\\lib\\site-packages (from stack-data->ipython->jupyter_dash) (0.2.2)\n"
     ]
    }
   ],
   "source": [
    "! pip install jupyter_dash"
   ]
  },
  {
   "cell_type": "code",
   "execution_count": null,
   "metadata": {},
   "outputs": [
    {
     "data": {
      "text/html": [
       "\n",
       "        <iframe\n",
       "            width=\"100%\"\n",
       "            height=\"650\"\n",
       "            src=\"http://127.0.0.1:8050/\"\n",
       "            frameborder=\"0\"\n",
       "            allowfullscreen\n",
       "            \n",
       "        ></iframe>\n",
       "        "
      ],
      "text/plain": [
       "<IPython.lib.display.IFrame at 0x1fdbd009070>"
      ]
     },
     "metadata": {},
     "output_type": "display_data"
    }
   ],
   "source": [
    "from dash import html, dcc\n",
    "from jupyter_dash import JupyterDash\n",
    "from dash.dependencies import Input, Output\n",
    "app = JupyterDash(__name__)\n",
    "app.layout = html.Div([\n",
    "     \"Pick a Campaign_Name\",\n",
    "     dcc.Dropdown(\n",
    "          options = [\"Cuelinks\", \"Admitad\", \"Pokket\", \"Partnerize\"],\n",
    "          value =\"Cuelinks\",\n",
    "          id = \"Campaign_dropdown\"\n",
    "     ),\n",
    "     html.H3(id = \"Campaign_output\")\n",
    "])\n",
    "@app.callback(\n",
    "     Output(\"Campaign_output\", \"product\"), \n",
    "     Input(\"Campaign_dropdown\", \"value\")\n",
    ")\n",
    "def Campaign_picker(Campaign):\n",
    "     return f\" I have Campaign {Campaign}\"\n",
    "if __name__ == \"__main__\":\n",
    "     app.run_server(mode='inline')"
   ]
  },
  {
   "cell_type": "code",
   "execution_count": null,
   "metadata": {},
   "outputs": [],
   "source": []
  }
 ],
 "metadata": {
  "kernelspec": {
   "display_name": "Python 3",
   "language": "python",
   "name": "python3"
  },
  "language_info": {
   "codemirror_mode": {
    "name": "ipython",
    "version": 3
   },
   "file_extension": ".py",
   "mimetype": "text/x-python",
   "name": "python",
   "nbconvert_exporter": "python",
   "pygments_lexer": "ipython3",
   "version": "3.9.12"
  }
 },
 "nbformat": 4,
 "nbformat_minor": 2
}
